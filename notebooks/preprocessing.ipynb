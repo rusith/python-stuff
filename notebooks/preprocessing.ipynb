{
 "nbformat": 4,
 "nbformat_minor": 2,
 "metadata": {
  "language_info": {
   "name": "python",
   "codemirror_mode": {
    "name": "ipython",
    "version": 3
   },
   "version": "3.6.8"
  },
  "orig_nbformat": 2,
  "file_extension": ".py",
  "mimetype": "text/x-python",
  "name": "python",
  "npconvert_exporter": "python",
  "pygments_lexer": "ipython3",
  "version": 3
 },
 "cells": [
  {
   "cell_type": "code",
   "execution_count": 1,
   "metadata": {},
   "outputs": [],
   "source": [
    "import numpy as np"
   ]
  },
  {
   "cell_type": "code",
   "execution_count": 2,
   "metadata": {},
   "outputs": [],
   "source": [
    "from sklearn.preprocessing import MinMaxScaler"
   ]
  },
  {
   "cell_type": "code",
   "execution_count": 3,
   "metadata": {},
   "outputs": [],
   "source": [
    "data = np.random.randint(0, 100, (10, 2))"
   ]
  },
  {
   "cell_type": "code",
   "execution_count": 4,
   "metadata": {},
   "outputs": [
    {
     "data": {
      "text/plain": "array([[19, 63],\n       [27, 87],\n       [50, 80],\n       [52, 25],\n       [95, 95],\n       [ 2, 73],\n       [37, 81],\n       [61, 55],\n       [80, 33],\n       [60, 25]])"
     },
     "execution_count": 4,
     "metadata": {},
     "output_type": "execute_result"
    }
   ],
   "source": [
    "data"
   ]
  },
  {
   "cell_type": "code",
   "execution_count": 5,
   "metadata": {},
   "outputs": [],
   "source": [
    "scaler_model =  MinMaxScaler()"
   ]
  },
  {
   "cell_type": "code",
   "execution_count": 6,
   "metadata": {},
   "outputs": [
    {
     "data": {
      "text/plain": "sklearn.preprocessing._data.MinMaxScaler"
     },
     "execution_count": 6,
     "metadata": {},
     "output_type": "execute_result"
    }
   ],
   "source": [
    "type(scaler_model)"
   ]
  },
  {
   "cell_type": "code",
   "execution_count": 7,
   "metadata": {},
   "outputs": [
    {
     "data": {
      "text/plain": "MinMaxScaler(copy=True, feature_range=(0, 1))"
     },
     "execution_count": 7,
     "metadata": {},
     "output_type": "execute_result"
    }
   ],
   "source": [
    "scaler_model.fit(data)"
   ]
  },
  {
   "cell_type": "code",
   "execution_count": 8,
   "metadata": {},
   "outputs": [
    {
     "data": {
      "text/plain": "array([[0.1827957 , 0.54285714],\n       [0.2688172 , 0.88571429],\n       [0.51612903, 0.78571429],\n       [0.53763441, 0.        ],\n       [1.        , 1.        ],\n       [0.        , 0.68571429],\n       [0.37634409, 0.8       ],\n       [0.6344086 , 0.42857143],\n       [0.83870968, 0.11428571],\n       [0.62365591, 0.        ]])"
     },
     "execution_count": 8,
     "metadata": {},
     "output_type": "execute_result"
    }
   ],
   "source": [
    "scaler_model.transform(data)"
   ]
  },
  {
   "cell_type": "code",
   "execution_count": 9,
   "metadata": {},
   "outputs": [],
   "source": [
    "import pandas as pd"
   ]
  },
  {
   "cell_type": "code",
   "execution_count": 12,
   "metadata": {},
   "outputs": [],
   "source": [
    "mydata =  pd.DataFrame(data=np.random.randint(0, 101, (50, 4)), columns=['f1', 'f2', 'f3', 'label'])"
   ]
  },
  {
   "cell_type": "code",
   "execution_count": 13,
   "metadata": {},
   "outputs": [
    {
     "data": {
      "text/html": "<div>\n<style scoped>\n    .dataframe tbody tr th:only-of-type {\n        vertical-align: middle;\n    }\n\n    .dataframe tbody tr th {\n        vertical-align: top;\n    }\n\n    .dataframe thead th {\n        text-align: right;\n    }\n</style>\n<table border=\"1\" class=\"dataframe\">\n  <thead>\n    <tr style=\"text-align: right;\">\n      <th></th>\n      <th>f1</th>\n      <th>f2</th>\n      <th>f3</th>\n      <th>label</th>\n    </tr>\n  </thead>\n  <tbody>\n    <tr>\n      <th>0</th>\n      <td>1</td>\n      <td>10</td>\n      <td>1</td>\n      <td>2</td>\n    </tr>\n    <tr>\n      <th>1</th>\n      <td>4</td>\n      <td>39</td>\n      <td>97</td>\n      <td>77</td>\n    </tr>\n    <tr>\n      <th>2</th>\n      <td>64</td>\n      <td>3</td>\n      <td>90</td>\n      <td>80</td>\n    </tr>\n    <tr>\n      <th>3</th>\n      <td>49</td>\n      <td>87</td>\n      <td>34</td>\n      <td>77</td>\n    </tr>\n    <tr>\n      <th>4</th>\n      <td>57</td>\n      <td>34</td>\n      <td>76</td>\n      <td>16</td>\n    </tr>\n    <tr>\n      <th>5</th>\n      <td>58</td>\n      <td>13</td>\n      <td>47</td>\n      <td>37</td>\n    </tr>\n    <tr>\n      <th>6</th>\n      <td>82</td>\n      <td>77</td>\n      <td>45</td>\n      <td>85</td>\n    </tr>\n    <tr>\n      <th>7</th>\n      <td>54</td>\n      <td>76</td>\n      <td>39</td>\n      <td>0</td>\n    </tr>\n    <tr>\n      <th>8</th>\n      <td>72</td>\n      <td>9</td>\n      <td>3</td>\n      <td>0</td>\n    </tr>\n    <tr>\n      <th>9</th>\n      <td>45</td>\n      <td>58</td>\n      <td>29</td>\n      <td>75</td>\n    </tr>\n    <tr>\n      <th>10</th>\n      <td>26</td>\n      <td>65</td>\n      <td>46</td>\n      <td>28</td>\n    </tr>\n    <tr>\n      <th>11</th>\n      <td>47</td>\n      <td>81</td>\n      <td>57</td>\n      <td>89</td>\n    </tr>\n    <tr>\n      <th>12</th>\n      <td>65</td>\n      <td>84</td>\n      <td>82</td>\n      <td>32</td>\n    </tr>\n    <tr>\n      <th>13</th>\n      <td>1</td>\n      <td>23</td>\n      <td>82</td>\n      <td>17</td>\n    </tr>\n    <tr>\n      <th>14</th>\n      <td>20</td>\n      <td>4</td>\n      <td>51</td>\n      <td>44</td>\n    </tr>\n    <tr>\n      <th>15</th>\n      <td>63</td>\n      <td>28</td>\n      <td>68</td>\n      <td>64</td>\n    </tr>\n    <tr>\n      <th>16</th>\n      <td>80</td>\n      <td>42</td>\n      <td>92</td>\n      <td>97</td>\n    </tr>\n    <tr>\n      <th>17</th>\n      <td>61</td>\n      <td>4</td>\n      <td>30</td>\n      <td>43</td>\n    </tr>\n    <tr>\n      <th>18</th>\n      <td>95</td>\n      <td>0</td>\n      <td>93</td>\n      <td>36</td>\n    </tr>\n    <tr>\n      <th>19</th>\n      <td>100</td>\n      <td>63</td>\n      <td>25</td>\n      <td>43</td>\n    </tr>\n    <tr>\n      <th>20</th>\n      <td>7</td>\n      <td>62</td>\n      <td>86</td>\n      <td>75</td>\n    </tr>\n    <tr>\n      <th>21</th>\n      <td>13</td>\n      <td>92</td>\n      <td>3</td>\n      <td>84</td>\n    </tr>\n    <tr>\n      <th>22</th>\n      <td>64</td>\n      <td>59</td>\n      <td>24</td>\n      <td>3</td>\n    </tr>\n    <tr>\n      <th>23</th>\n      <td>39</td>\n      <td>59</td>\n      <td>66</td>\n      <td>22</td>\n    </tr>\n    <tr>\n      <th>24</th>\n      <td>97</td>\n      <td>4</td>\n      <td>39</td>\n      <td>92</td>\n    </tr>\n    <tr>\n      <th>25</th>\n      <td>72</td>\n      <td>51</td>\n      <td>83</td>\n      <td>28</td>\n    </tr>\n    <tr>\n      <th>26</th>\n      <td>3</td>\n      <td>45</td>\n      <td>66</td>\n      <td>33</td>\n    </tr>\n    <tr>\n      <th>27</th>\n      <td>64</td>\n      <td>57</td>\n      <td>64</td>\n      <td>60</td>\n    </tr>\n    <tr>\n      <th>28</th>\n      <td>1</td>\n      <td>29</td>\n      <td>10</td>\n      <td>40</td>\n    </tr>\n    <tr>\n      <th>29</th>\n      <td>1</td>\n      <td>1</td>\n      <td>6</td>\n      <td>100</td>\n    </tr>\n    <tr>\n      <th>30</th>\n      <td>86</td>\n      <td>16</td>\n      <td>86</td>\n      <td>25</td>\n    </tr>\n    <tr>\n      <th>31</th>\n      <td>87</td>\n      <td>54</td>\n      <td>33</td>\n      <td>5</td>\n    </tr>\n    <tr>\n      <th>32</th>\n      <td>26</td>\n      <td>70</td>\n      <td>99</td>\n      <td>34</td>\n    </tr>\n    <tr>\n      <th>33</th>\n      <td>82</td>\n      <td>43</td>\n      <td>94</td>\n      <td>37</td>\n    </tr>\n    <tr>\n      <th>34</th>\n      <td>89</td>\n      <td>15</td>\n      <td>48</td>\n      <td>100</td>\n    </tr>\n    <tr>\n      <th>35</th>\n      <td>17</td>\n      <td>36</td>\n      <td>96</td>\n      <td>31</td>\n    </tr>\n    <tr>\n      <th>36</th>\n      <td>54</td>\n      <td>33</td>\n      <td>24</td>\n      <td>27</td>\n    </tr>\n    <tr>\n      <th>37</th>\n      <td>52</td>\n      <td>90</td>\n      <td>22</td>\n      <td>33</td>\n    </tr>\n    <tr>\n      <th>38</th>\n      <td>95</td>\n      <td>49</td>\n      <td>100</td>\n      <td>30</td>\n    </tr>\n    <tr>\n      <th>39</th>\n      <td>96</td>\n      <td>12</td>\n      <td>28</td>\n      <td>91</td>\n    </tr>\n    <tr>\n      <th>40</th>\n      <td>41</td>\n      <td>73</td>\n      <td>86</td>\n      <td>88</td>\n    </tr>\n    <tr>\n      <th>41</th>\n      <td>65</td>\n      <td>19</td>\n      <td>55</td>\n      <td>35</td>\n    </tr>\n    <tr>\n      <th>42</th>\n      <td>79</td>\n      <td>84</td>\n      <td>55</td>\n      <td>15</td>\n    </tr>\n    <tr>\n      <th>43</th>\n      <td>95</td>\n      <td>87</td>\n      <td>97</td>\n      <td>47</td>\n    </tr>\n    <tr>\n      <th>44</th>\n      <td>75</td>\n      <td>7</td>\n      <td>26</td>\n      <td>72</td>\n    </tr>\n    <tr>\n      <th>45</th>\n      <td>54</td>\n      <td>76</td>\n      <td>31</td>\n      <td>79</td>\n    </tr>\n    <tr>\n      <th>46</th>\n      <td>81</td>\n      <td>99</td>\n      <td>95</td>\n      <td>62</td>\n    </tr>\n    <tr>\n      <th>47</th>\n      <td>66</td>\n      <td>34</td>\n      <td>75</td>\n      <td>58</td>\n    </tr>\n    <tr>\n      <th>48</th>\n      <td>52</td>\n      <td>82</td>\n      <td>84</td>\n      <td>14</td>\n    </tr>\n    <tr>\n      <th>49</th>\n      <td>40</td>\n      <td>10</td>\n      <td>1</td>\n      <td>56</td>\n    </tr>\n  </tbody>\n</table>\n</div>",
      "text/plain": "     f1  f2   f3  label\n0     1  10    1      2\n1     4  39   97     77\n2    64   3   90     80\n3    49  87   34     77\n4    57  34   76     16\n5    58  13   47     37\n6    82  77   45     85\n7    54  76   39      0\n8    72   9    3      0\n9    45  58   29     75\n10   26  65   46     28\n11   47  81   57     89\n12   65  84   82     32\n13    1  23   82     17\n14   20   4   51     44\n15   63  28   68     64\n16   80  42   92     97\n17   61   4   30     43\n18   95   0   93     36\n19  100  63   25     43\n20    7  62   86     75\n21   13  92    3     84\n22   64  59   24      3\n23   39  59   66     22\n24   97   4   39     92\n25   72  51   83     28\n26    3  45   66     33\n27   64  57   64     60\n28    1  29   10     40\n29    1   1    6    100\n30   86  16   86     25\n31   87  54   33      5\n32   26  70   99     34\n33   82  43   94     37\n34   89  15   48    100\n35   17  36   96     31\n36   54  33   24     27\n37   52  90   22     33\n38   95  49  100     30\n39   96  12   28     91\n40   41  73   86     88\n41   65  19   55     35\n42   79  84   55     15\n43   95  87   97     47\n44   75   7   26     72\n45   54  76   31     79\n46   81  99   95     62\n47   66  34   75     58\n48   52  82   84     14\n49   40  10    1     56"
     },
     "execution_count": 13,
     "metadata": {},
     "output_type": "execute_result"
    }
   ],
   "source": [
    "mydata"
   ]
  },
  {
   "cell_type": "code",
   "execution_count": 15,
   "metadata": {},
   "outputs": [],
   "source": [
    "X = mydata[['f1', 'f2', 'f3']]"
   ]
  },
  {
   "cell_type": "code",
   "execution_count": 16,
   "metadata": {},
   "outputs": [
    {
     "data": {
      "text/html": "<div>\n<style scoped>\n    .dataframe tbody tr th:only-of-type {\n        vertical-align: middle;\n    }\n\n    .dataframe tbody tr th {\n        vertical-align: top;\n    }\n\n    .dataframe thead th {\n        text-align: right;\n    }\n</style>\n<table border=\"1\" class=\"dataframe\">\n  <thead>\n    <tr style=\"text-align: right;\">\n      <th></th>\n      <th>f1</th>\n      <th>f2</th>\n      <th>f3</th>\n    </tr>\n  </thead>\n  <tbody>\n    <tr>\n      <th>0</th>\n      <td>1</td>\n      <td>10</td>\n      <td>1</td>\n    </tr>\n    <tr>\n      <th>1</th>\n      <td>4</td>\n      <td>39</td>\n      <td>97</td>\n    </tr>\n    <tr>\n      <th>2</th>\n      <td>64</td>\n      <td>3</td>\n      <td>90</td>\n    </tr>\n    <tr>\n      <th>3</th>\n      <td>49</td>\n      <td>87</td>\n      <td>34</td>\n    </tr>\n    <tr>\n      <th>4</th>\n      <td>57</td>\n      <td>34</td>\n      <td>76</td>\n    </tr>\n    <tr>\n      <th>5</th>\n      <td>58</td>\n      <td>13</td>\n      <td>47</td>\n    </tr>\n    <tr>\n      <th>6</th>\n      <td>82</td>\n      <td>77</td>\n      <td>45</td>\n    </tr>\n    <tr>\n      <th>7</th>\n      <td>54</td>\n      <td>76</td>\n      <td>39</td>\n    </tr>\n    <tr>\n      <th>8</th>\n      <td>72</td>\n      <td>9</td>\n      <td>3</td>\n    </tr>\n    <tr>\n      <th>9</th>\n      <td>45</td>\n      <td>58</td>\n      <td>29</td>\n    </tr>\n    <tr>\n      <th>10</th>\n      <td>26</td>\n      <td>65</td>\n      <td>46</td>\n    </tr>\n    <tr>\n      <th>11</th>\n      <td>47</td>\n      <td>81</td>\n      <td>57</td>\n    </tr>\n    <tr>\n      <th>12</th>\n      <td>65</td>\n      <td>84</td>\n      <td>82</td>\n    </tr>\n    <tr>\n      <th>13</th>\n      <td>1</td>\n      <td>23</td>\n      <td>82</td>\n    </tr>\n    <tr>\n      <th>14</th>\n      <td>20</td>\n      <td>4</td>\n      <td>51</td>\n    </tr>\n    <tr>\n      <th>15</th>\n      <td>63</td>\n      <td>28</td>\n      <td>68</td>\n    </tr>\n    <tr>\n      <th>16</th>\n      <td>80</td>\n      <td>42</td>\n      <td>92</td>\n    </tr>\n    <tr>\n      <th>17</th>\n      <td>61</td>\n      <td>4</td>\n      <td>30</td>\n    </tr>\n    <tr>\n      <th>18</th>\n      <td>95</td>\n      <td>0</td>\n      <td>93</td>\n    </tr>\n    <tr>\n      <th>19</th>\n      <td>100</td>\n      <td>63</td>\n      <td>25</td>\n    </tr>\n    <tr>\n      <th>20</th>\n      <td>7</td>\n      <td>62</td>\n      <td>86</td>\n    </tr>\n    <tr>\n      <th>21</th>\n      <td>13</td>\n      <td>92</td>\n      <td>3</td>\n    </tr>\n    <tr>\n      <th>22</th>\n      <td>64</td>\n      <td>59</td>\n      <td>24</td>\n    </tr>\n    <tr>\n      <th>23</th>\n      <td>39</td>\n      <td>59</td>\n      <td>66</td>\n    </tr>\n    <tr>\n      <th>24</th>\n      <td>97</td>\n      <td>4</td>\n      <td>39</td>\n    </tr>\n    <tr>\n      <th>25</th>\n      <td>72</td>\n      <td>51</td>\n      <td>83</td>\n    </tr>\n    <tr>\n      <th>26</th>\n      <td>3</td>\n      <td>45</td>\n      <td>66</td>\n    </tr>\n    <tr>\n      <th>27</th>\n      <td>64</td>\n      <td>57</td>\n      <td>64</td>\n    </tr>\n    <tr>\n      <th>28</th>\n      <td>1</td>\n      <td>29</td>\n      <td>10</td>\n    </tr>\n    <tr>\n      <th>29</th>\n      <td>1</td>\n      <td>1</td>\n      <td>6</td>\n    </tr>\n    <tr>\n      <th>30</th>\n      <td>86</td>\n      <td>16</td>\n      <td>86</td>\n    </tr>\n    <tr>\n      <th>31</th>\n      <td>87</td>\n      <td>54</td>\n      <td>33</td>\n    </tr>\n    <tr>\n      <th>32</th>\n      <td>26</td>\n      <td>70</td>\n      <td>99</td>\n    </tr>\n    <tr>\n      <th>33</th>\n      <td>82</td>\n      <td>43</td>\n      <td>94</td>\n    </tr>\n    <tr>\n      <th>34</th>\n      <td>89</td>\n      <td>15</td>\n      <td>48</td>\n    </tr>\n    <tr>\n      <th>35</th>\n      <td>17</td>\n      <td>36</td>\n      <td>96</td>\n    </tr>\n    <tr>\n      <th>36</th>\n      <td>54</td>\n      <td>33</td>\n      <td>24</td>\n    </tr>\n    <tr>\n      <th>37</th>\n      <td>52</td>\n      <td>90</td>\n      <td>22</td>\n    </tr>\n    <tr>\n      <th>38</th>\n      <td>95</td>\n      <td>49</td>\n      <td>100</td>\n    </tr>\n    <tr>\n      <th>39</th>\n      <td>96</td>\n      <td>12</td>\n      <td>28</td>\n    </tr>\n    <tr>\n      <th>40</th>\n      <td>41</td>\n      <td>73</td>\n      <td>86</td>\n    </tr>\n    <tr>\n      <th>41</th>\n      <td>65</td>\n      <td>19</td>\n      <td>55</td>\n    </tr>\n    <tr>\n      <th>42</th>\n      <td>79</td>\n      <td>84</td>\n      <td>55</td>\n    </tr>\n    <tr>\n      <th>43</th>\n      <td>95</td>\n      <td>87</td>\n      <td>97</td>\n    </tr>\n    <tr>\n      <th>44</th>\n      <td>75</td>\n      <td>7</td>\n      <td>26</td>\n    </tr>\n    <tr>\n      <th>45</th>\n      <td>54</td>\n      <td>76</td>\n      <td>31</td>\n    </tr>\n    <tr>\n      <th>46</th>\n      <td>81</td>\n      <td>99</td>\n      <td>95</td>\n    </tr>\n    <tr>\n      <th>47</th>\n      <td>66</td>\n      <td>34</td>\n      <td>75</td>\n    </tr>\n    <tr>\n      <th>48</th>\n      <td>52</td>\n      <td>82</td>\n      <td>84</td>\n    </tr>\n    <tr>\n      <th>49</th>\n      <td>40</td>\n      <td>10</td>\n      <td>1</td>\n    </tr>\n  </tbody>\n</table>\n</div>",
      "text/plain": "     f1  f2   f3\n0     1  10    1\n1     4  39   97\n2    64   3   90\n3    49  87   34\n4    57  34   76\n5    58  13   47\n6    82  77   45\n7    54  76   39\n8    72   9    3\n9    45  58   29\n10   26  65   46\n11   47  81   57\n12   65  84   82\n13    1  23   82\n14   20   4   51\n15   63  28   68\n16   80  42   92\n17   61   4   30\n18   95   0   93\n19  100  63   25\n20    7  62   86\n21   13  92    3\n22   64  59   24\n23   39  59   66\n24   97   4   39\n25   72  51   83\n26    3  45   66\n27   64  57   64\n28    1  29   10\n29    1   1    6\n30   86  16   86\n31   87  54   33\n32   26  70   99\n33   82  43   94\n34   89  15   48\n35   17  36   96\n36   54  33   24\n37   52  90   22\n38   95  49  100\n39   96  12   28\n40   41  73   86\n41   65  19   55\n42   79  84   55\n43   95  87   97\n44   75   7   26\n45   54  76   31\n46   81  99   95\n47   66  34   75\n48   52  82   84\n49   40  10    1"
     },
     "execution_count": 16,
     "metadata": {},
     "output_type": "execute_result"
    }
   ],
   "source": [
    "X"
   ]
  },
  {
   "cell_type": "code",
   "execution_count": 17,
   "metadata": {},
   "outputs": [],
   "source": [
    "y = mydata['label']"
   ]
  },
  {
   "cell_type": "code",
   "execution_count": 18,
   "metadata": {},
   "outputs": [
    {
     "data": {
      "text/plain": "0       2\n1      77\n2      80\n3      77\n4      16\n5      37\n6      85\n7       0\n8       0\n9      75\n10     28\n11     89\n12     32\n13     17\n14     44\n15     64\n16     97\n17     43\n18     36\n19     43\n20     75\n21     84\n22      3\n23     22\n24     92\n25     28\n26     33\n27     60\n28     40\n29    100\n30     25\n31      5\n32     34\n33     37\n34    100\n35     31\n36     27\n37     33\n38     30\n39     91\n40     88\n41     35\n42     15\n43     47\n44     72\n45     79\n46     62\n47     58\n48     14\n49     56\nName: label, dtype: int32"
     },
     "execution_count": 18,
     "metadata": {},
     "output_type": "execute_result"
    }
   ],
   "source": [
    "y\n"
   ]
  },
  {
   "cell_type": "code",
   "execution_count": 19,
   "metadata": {},
   "outputs": [],
   "source": [
    "from  sklearn.model_selection import train_test_split"
   ]
  },
  {
   "cell_type": "code",
   "execution_count": 20,
   "metadata": {},
   "outputs": [],
   "source": [
    "X_train, X_test, y_train, y_test = train_test_split(X, y, test_size=0.3, random_state=42)"
   ]
  },
  {
   "cell_type": "code",
   "execution_count": 21,
   "metadata": {},
   "outputs": [
    {
     "data": {
      "text/html": "<div>\n<style scoped>\n    .dataframe tbody tr th:only-of-type {\n        vertical-align: middle;\n    }\n\n    .dataframe tbody tr th {\n        vertical-align: top;\n    }\n\n    .dataframe thead th {\n        text-align: right;\n    }\n</style>\n<table border=\"1\" class=\"dataframe\">\n  <thead>\n    <tr style=\"text-align: right;\">\n      <th></th>\n      <th>f1</th>\n      <th>f2</th>\n      <th>f3</th>\n    </tr>\n  </thead>\n  <tbody>\n    <tr>\n      <th>6</th>\n      <td>82</td>\n      <td>77</td>\n      <td>45</td>\n    </tr>\n    <tr>\n      <th>41</th>\n      <td>65</td>\n      <td>19</td>\n      <td>55</td>\n    </tr>\n    <tr>\n      <th>46</th>\n      <td>81</td>\n      <td>99</td>\n      <td>95</td>\n    </tr>\n    <tr>\n      <th>47</th>\n      <td>66</td>\n      <td>34</td>\n      <td>75</td>\n    </tr>\n    <tr>\n      <th>15</th>\n      <td>63</td>\n      <td>28</td>\n      <td>68</td>\n    </tr>\n    <tr>\n      <th>9</th>\n      <td>45</td>\n      <td>58</td>\n      <td>29</td>\n    </tr>\n    <tr>\n      <th>16</th>\n      <td>80</td>\n      <td>42</td>\n      <td>92</td>\n    </tr>\n    <tr>\n      <th>24</th>\n      <td>97</td>\n      <td>4</td>\n      <td>39</td>\n    </tr>\n    <tr>\n      <th>34</th>\n      <td>89</td>\n      <td>15</td>\n      <td>48</td>\n    </tr>\n    <tr>\n      <th>31</th>\n      <td>87</td>\n      <td>54</td>\n      <td>33</td>\n    </tr>\n    <tr>\n      <th>0</th>\n      <td>1</td>\n      <td>10</td>\n      <td>1</td>\n    </tr>\n    <tr>\n      <th>44</th>\n      <td>75</td>\n      <td>7</td>\n      <td>26</td>\n    </tr>\n    <tr>\n      <th>27</th>\n      <td>64</td>\n      <td>57</td>\n      <td>64</td>\n    </tr>\n    <tr>\n      <th>33</th>\n      <td>82</td>\n      <td>43</td>\n      <td>94</td>\n    </tr>\n    <tr>\n      <th>5</th>\n      <td>58</td>\n      <td>13</td>\n      <td>47</td>\n    </tr>\n    <tr>\n      <th>29</th>\n      <td>1</td>\n      <td>1</td>\n      <td>6</td>\n    </tr>\n    <tr>\n      <th>11</th>\n      <td>47</td>\n      <td>81</td>\n      <td>57</td>\n    </tr>\n    <tr>\n      <th>36</th>\n      <td>54</td>\n      <td>33</td>\n      <td>24</td>\n    </tr>\n    <tr>\n      <th>1</th>\n      <td>4</td>\n      <td>39</td>\n      <td>97</td>\n    </tr>\n    <tr>\n      <th>21</th>\n      <td>13</td>\n      <td>92</td>\n      <td>3</td>\n    </tr>\n    <tr>\n      <th>2</th>\n      <td>64</td>\n      <td>3</td>\n      <td>90</td>\n    </tr>\n    <tr>\n      <th>43</th>\n      <td>95</td>\n      <td>87</td>\n      <td>97</td>\n    </tr>\n    <tr>\n      <th>35</th>\n      <td>17</td>\n      <td>36</td>\n      <td>96</td>\n    </tr>\n    <tr>\n      <th>23</th>\n      <td>39</td>\n      <td>59</td>\n      <td>66</td>\n    </tr>\n    <tr>\n      <th>40</th>\n      <td>41</td>\n      <td>73</td>\n      <td>86</td>\n    </tr>\n    <tr>\n      <th>10</th>\n      <td>26</td>\n      <td>65</td>\n      <td>46</td>\n    </tr>\n    <tr>\n      <th>22</th>\n      <td>64</td>\n      <td>59</td>\n      <td>24</td>\n    </tr>\n    <tr>\n      <th>18</th>\n      <td>95</td>\n      <td>0</td>\n      <td>93</td>\n    </tr>\n    <tr>\n      <th>49</th>\n      <td>40</td>\n      <td>10</td>\n      <td>1</td>\n    </tr>\n    <tr>\n      <th>20</th>\n      <td>7</td>\n      <td>62</td>\n      <td>86</td>\n    </tr>\n    <tr>\n      <th>7</th>\n      <td>54</td>\n      <td>76</td>\n      <td>39</td>\n    </tr>\n    <tr>\n      <th>42</th>\n      <td>79</td>\n      <td>84</td>\n      <td>55</td>\n    </tr>\n    <tr>\n      <th>14</th>\n      <td>20</td>\n      <td>4</td>\n      <td>51</td>\n    </tr>\n    <tr>\n      <th>28</th>\n      <td>1</td>\n      <td>29</td>\n      <td>10</td>\n    </tr>\n    <tr>\n      <th>38</th>\n      <td>95</td>\n      <td>49</td>\n      <td>100</td>\n    </tr>\n  </tbody>\n</table>\n</div>",
      "text/plain": "    f1  f2   f3\n6   82  77   45\n41  65  19   55\n46  81  99   95\n47  66  34   75\n15  63  28   68\n9   45  58   29\n16  80  42   92\n24  97   4   39\n34  89  15   48\n31  87  54   33\n0    1  10    1\n44  75   7   26\n27  64  57   64\n33  82  43   94\n5   58  13   47\n29   1   1    6\n11  47  81   57\n36  54  33   24\n1    4  39   97\n21  13  92    3\n2   64   3   90\n43  95  87   97\n35  17  36   96\n23  39  59   66\n40  41  73   86\n10  26  65   46\n22  64  59   24\n18  95   0   93\n49  40  10    1\n20   7  62   86\n7   54  76   39\n42  79  84   55\n14  20   4   51\n28   1  29   10\n38  95  49  100"
     },
     "execution_count": 21,
     "metadata": {},
     "output_type": "execute_result"
    }
   ],
   "source": [
    "X_train"
   ]
  },
  {
   "cell_type": "code",
   "execution_count": 23,
   "metadata": {},
   "outputs": [
    {
     "data": {
      "text/plain": "(35,)"
     },
     "execution_count": 23,
     "metadata": {},
     "output_type": "execute_result"
    }
   ],
   "source": [
    "y_train.shape"
   ]
  },
  {
   "cell_type": "code",
   "execution_count": null,
   "metadata": {},
   "outputs": [],
   "source": []
  }
 ]
}